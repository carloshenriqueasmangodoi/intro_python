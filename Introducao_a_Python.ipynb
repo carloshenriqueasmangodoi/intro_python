{
  "nbformat": 4,
  "nbformat_minor": 0,
  "metadata": {
    "colab": {
      "provenance": []
    },
    "kernelspec": {
      "name": "python3",
      "display_name": "Python 3"
    },
    "language_info": {
      "name": "python"
    }
  },
  "cells": [
    {
      "cell_type": "markdown",
      "source": [
        "## Aula 1"
      ],
      "metadata": {
        "id": "cWxNNdD3MF9X"
      }
    },
    {
      "cell_type": "code",
      "execution_count": null,
      "metadata": {
        "colab": {
          "base_uri": "https://localhost:8080/"
        },
        "id": "AJNLTAV7F6cw",
        "outputId": "4f478a54-a546-4e53-e2ef-5be62056abdc"
      },
      "outputs": [
        {
          "output_type": "stream",
          "name": "stdout",
          "text": [
            "I Competição de Programação do CECG\n"
          ]
        }
      ],
      "source": [
        "print(\"I Competição de Programação do CECG\")"
      ]
    },
    {
      "cell_type": "code",
      "source": [
        "ano = \"II\"\n",
        "print (ano, \"Competição de Programação do CECG\")"
      ],
      "metadata": {
        "colab": {
          "base_uri": "https://localhost:8080/"
        },
        "id": "mKf2vZP0IhP8",
        "outputId": "9fd23831-2167-4062-abfc-df2a248a58b6"
      },
      "execution_count": null,
      "outputs": [
        {
          "output_type": "stream",
          "name": "stdout",
          "text": [
            "II Competição de Programação do CECG\n"
          ]
        }
      ]
    },
    {
      "cell_type": "code",
      "source": [
        "print (f\"{ano}, Competição de Programação da Start\")"
      ],
      "metadata": {
        "colab": {
          "base_uri": "https://localhost:8080/"
        },
        "id": "1UiZUqiIJKDx",
        "outputId": "b81d6f10-4350-49cb-c3f3-5a79cf9248bc"
      },
      "execution_count": null,
      "outputs": [
        {
          "output_type": "stream",
          "name": "stdout",
          "text": [
            "II, Competição de Programação da Start\n"
          ]
        }
      ]
    },
    {
      "cell_type": "markdown",
      "source": [
        "## Aula 2"
      ],
      "metadata": {
        "id": "XxGGflvfMca1"
      }
    },
    {
      "cell_type": "code",
      "source": [
        "livro_ficcao = 10\n",
        "livro_nficcao = 8\n",
        "livro_infantil = 6\n",
        "\n",
        "pontos_rodrigo = livro_ficcao + livro_nficcao + livro_infantil\n",
        "\n",
        "print (f\"Os pontos totais do Rodrigo são: {pontos_rodrigo}.\")"
      ],
      "metadata": {
        "colab": {
          "base_uri": "https://localhost:8080/"
        },
        "id": "KH-dhKpRMfiN",
        "outputId": "8c5cca15-35ca-4304-9fbc-c4a582af96bd"
      },
      "execution_count": null,
      "outputs": [
        {
          "output_type": "stream",
          "name": "stdout",
          "text": [
            "Os pontos totais do Rodrigo são: 24.\n"
          ]
        }
      ]
    },
    {
      "cell_type": "markdown",
      "source": [
        "## Aula 3"
      ],
      "metadata": {
        "id": "0O9eMPfWPEI3"
      }
    },
    {
      "cell_type": "code",
      "source": [
        "total_figurinhas = int(input(\"Digite o total de figurinhas:\"))\n",
        "numero_amigos = int(input(\"Digite o número de amigos:\"))\n",
        "figurinhas_amigos = total_figurinhas // (numero_amigos + 2)\n",
        "figurinhas_joao = figurinhas_amigos *2\n",
        "print(f\"João recebeu {figurinhas_joao} figurinhas.\")\n",
        "print(f\"Os amigos receberam {figurinhas_amigos} figurinhas cada.\")\n"
      ],
      "metadata": {
        "colab": {
          "base_uri": "https://localhost:8080/"
        },
        "id": "U2C0IYBZPGcY",
        "outputId": "b59e8e13-9ac8-40b2-fdaa-24a8edf5d146"
      },
      "execution_count": null,
      "outputs": [
        {
          "output_type": "stream",
          "name": "stdout",
          "text": [
            "Digite o total de figurinhas:45\n",
            "Digite o número de amigos:2\n",
            "João recebeu 22 figurinhas.\n",
            "Os amigos receberam 11 figurinhas cada.\n"
          ]
        }
      ]
    }
  ]
}